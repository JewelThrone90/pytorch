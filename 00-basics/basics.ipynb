{
 "cells": [
  {
   "cell_type": "code",
   "execution_count": 1,
   "metadata": {},
   "outputs": [],
   "source": [
    "##### basics ######\n",
    "import torch"
   ]
  },
  {
   "cell_type": "code",
   "execution_count": 22,
   "metadata": {},
   "outputs": [
    {
     "name": "stdout",
     "output_type": "stream",
     "text": [
      "cpu\n"
     ]
    }
   ],
   "source": [
    "# use gpu if available\n",
    "device = torch.device('cpu')\n",
    "if torch.cuda.is_available():\n",
    "    device = torch.device(\"cuda\")\n",
    "print(device)"
   ]
  },
  {
   "cell_type": "code",
   "execution_count": 45,
   "metadata": {},
   "outputs": [
    {
     "data": {
      "text/plain": [
       "tensor([[0.0871, 0.8679, 0.2949, 0.3368, 0.5443],\n",
       "        [0.2726, 0.2802, 0.5012, 0.7255, 0.2054],\n",
       "        [0.8012, 0.7040, 0.4799, 0.9248, 0.2421],\n",
       "        [0.0289, 0.9274, 0.6971, 0.0996, 0.9372]], requires_grad=True)"
      ]
     },
     "execution_count": 45,
     "metadata": {},
     "output_type": "execute_result"
    }
   ],
   "source": [
    "# creating tensors\n",
    "x = torch.empty(4,5)\n",
    "x = torch.zeros(4,5)\n",
    "x = torch.ones(4,1, dtype = torch.float32)\n",
    "x = torch.eye(4) #identity matrix\n",
    "\n",
    "x = torch.randint(low=0, high=100, size=(4,1)) # randomints\n",
    "x = torch.rand(4, 5, requires_grad=True) # random uniform\n",
    "x"
   ]
  },
  {
   "cell_type": "code",
   "execution_count": 46,
   "metadata": {},
   "outputs": [
    {
     "name": "stdout",
     "output_type": "stream",
     "text": [
      "shape: torch.Size([4, 5]), dtype: torch.float32, requires_grad: True, device: cpu\n"
     ]
    }
   ],
   "source": [
    "# tensort attributes\n",
    "print(f'shape: {x.shape}, dtype: {x.dtype}, requires_grad: {x.requires_grad}, device: {x.device}')"
   ]
  },
  {
   "cell_type": "code",
   "execution_count": 47,
   "metadata": {},
   "outputs": [],
   "source": [
    "# methods\n",
    "x = torch.rand(4,5)\n",
    "x_numpy = x.numpy() # return a copy of x as numpy\n",
    "x = x.to(device) # return a copy of x on the device\n",
    "x_cpu = x.to('cpu') # return a copy of x on the cpu"
   ]
  },
  {
   "cell_type": "code",
   "execution_count": 48,
   "metadata": {},
   "outputs": [
    {
     "name": "stdout",
     "output_type": "stream",
     "text": [
      "max_vals: tensor([0.8133, 0.9204, 0.7485, 0.8780]) indices: tensor([2, 1, 0, 3])\n"
     ]
    },
    {
     "data": {
      "text/plain": [
       "tensor([[1.3139, 1.1489, 0.8490, 0.8500],\n",
       "        [1.1489, 1.5593, 1.0247, 1.2525],\n",
       "        [0.8490, 1.0247, 1.0758, 1.0448],\n",
       "        [0.8500, 1.2525, 1.0448, 1.4849]])"
      ]
     },
     "execution_count": 48,
     "metadata": {},
     "output_type": "execute_result"
    }
   ],
   "source": [
    "# some math methods\n",
    "x.T # transpose\n",
    "x.matmul(x.T) # matrix multiplication\n",
    "x.add(x) # add\n",
    "x.add_(x) # method ending with \"_\" is in place\n",
    "\n",
    "max_vals, max_args = x.max(dim=1) # return max vals and indices by row\n",
    "print('max_vals:', max_vals, 'indices:', max_args)"
   ]
  },
  {
   "cell_type": "code",
   "execution_count": null,
   "metadata": {},
   "outputs": [],
   "source": []
  }
 ],
 "metadata": {
  "kernelspec": {
   "display_name": "minas-env",
   "language": "python",
   "name": "python3"
  },
  "language_info": {
   "codemirror_mode": {
    "name": "ipython",
    "version": 3
   },
   "file_extension": ".py",
   "mimetype": "text/x-python",
   "name": "python",
   "nbconvert_exporter": "python",
   "pygments_lexer": "ipython3",
   "version": "3.11.4"
  },
  "orig_nbformat": 4
 },
 "nbformat": 4,
 "nbformat_minor": 2
}
